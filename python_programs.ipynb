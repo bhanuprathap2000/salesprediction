{
  "nbformat": 4,
  "nbformat_minor": 0,
  "metadata": {
    "colab": {
      "name": "python programs.ipynb",
      "provenance": []
    },
    "kernelspec": {
      "name": "python3",
      "display_name": "Python 3"
    },
    "language_info": {
      "name": "python"
    }
  },
  "cells": [
    {
      "cell_type": "code",
      "metadata": {
        "colab": {
          "base_uri": "https://localhost:8080/",
          "height": 182
        },
        "id": "NnYQXTkHlrNO",
        "outputId": "95757fd7-ddf5-486e-d5dd-834a315a5fda"
      },
      "source": [
        "# importing required libraries\n",
        "import matplotlib.pyplot as plt\n",
        "import matplotlib.image as img\n",
        "\n",
        "# reading the image\n",
        "testImage = img.imread('python.png')\n",
        "\n",
        "# displaying the image\n",
        "plt.imshow(testImage)"
      ],
      "execution_count": null,
      "outputs": [
        {
          "output_type": "execute_result",
          "data": {
            "text/plain": [
              "<matplotlib.image.AxesImage at 0x7fcdff963e90>"
            ]
          },
          "metadata": {
            "tags": []
          },
          "execution_count": 3
        },
        {
          "output_type": "display_data",
          "data": {
            "image/png": "[encoded data removed]",
            "text/plain": [
              "<Figure size 432x288 with 1 Axes>"
            ]
          },
          "metadata": {
            "tags": [],
            "needs_background": "light"
          }
        }
      ]
    },
    {
      "cell_type": "code",
      "metadata": {
        "id": "Zjy9OU7So5f-"
      },
      "source": [
        "# Improting Image class from PIL module\n",
        "from PIL import Image\n",
        "\n",
        "# Opens a image in RGB mode\n",
        "im = Image.open(r\"python.png\")\n",
        "\n",
        "# Size of the image in pixels (size of orginal image)\n",
        "# (This is not mandatory)\n",
        "width, height = im.size\n",
        "\n",
        "# Setting the points for cropped image\n",
        "left = 5\n",
        "top = height / 4\n",
        "right = 164\n",
        "bottom = 3 * height / 4\n",
        "\n",
        "# Cropped image of above dimension\n",
        "# (It will not change orginal image)\n",
        "im1 = im.crop((left, top, right, bottom))\n",
        "\n",
        "# Shows the image in image viewer\n",
        "im1.show()"
      ],
      "execution_count": null,
      "outputs": []
    },
    {
      "cell_type": "code",
      "metadata": {
        "id": "mbypYY1wo6Hd"
      },
      "source": [
        "from PIL import Image\n",
        "from PIL import ImageOps\n",
        "im = Image.open(\"python.png\")\n",
        "im = ImageOps.mirror(im)\n",
        "im.save(\"python_mirror.png\")\n",
        "im.show()"
      ],
      "execution_count": null,
      "outputs": []
    },
    {
      "cell_type": "code",
      "metadata": {
        "colab": {
          "base_uri": "https://localhost:8080/",
          "height": 165
        },
        "id": "euSR1yDbo8mD",
        "outputId": "59d5a486-0fd7-4908-f1df-b0bbccee72fd"
      },
      "source": [
        "import numpy as np\n",
        "import matplotlib.pyplot as plt\n",
        "import matplotlib.image as mpimg\n",
        "img = mpimg.imread('python.png')\n",
        "img2 = np.fliplr(img)\n",
        "plt.imshow(img2)\n",
        "plt.savefig(\"lena_mirror_matplotlib.png\", dpi=200)\n",
        "plt.show()\n"
      ],
      "execution_count": null,
      "outputs": [
        {
          "output_type": "display_data",
          "data": {
            "image/png": "[encoded data removed]",
            "text/plain": [
              "<Figure size 432x288 with 1 Axes>"
            ]
          },
          "metadata": {
            "tags": [],
            "needs_background": "light"
          }
        }
      ]
    },
    {
      "cell_type": "code",
      "metadata": {
        "id": "W3actey8o_ID"
      },
      "source": [
        "# import the Python Image processing Library\n",
        "from PIL import Image\n",
        " \n",
        "# Giving The Orginal image Directory Specified\n",
        "Original_Image = Image.open(\"./python.png\")\n",
        " \n",
        "# Rotate Image By 180 Degree\n",
        "rotated_image1 = Original_Image.rotate(180)\n",
        " \n",
        "# This is Alternative Syntax To Rotate The Image\n",
        "rotated_image2 = Original_Image.transpose(Image.ROTATE_90)\n",
        " \n",
        "# This Will Rotate Image By 60 Degree\n",
        "rotated_image3 = Original_Image.rotate(60)\n",
        " \n",
        "rotated_image1.show()\n",
        "rotated_image2.show()\n",
        "rotated_image3.show()"
      ],
      "execution_count": null,
      "outputs": []
    }
  ]
}